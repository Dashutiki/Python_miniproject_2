{
 "cells": [
  {
   "cell_type": "code",
   "execution_count": 40,
   "id": "12fbfe48",
   "metadata": {},
   "outputs": [],
   "source": [
    "import pandas as pd\n",
    "\n",
    "import seaborn as sns"
   ]
  },
  {
   "cell_type": "code",
   "execution_count": 44,
   "id": "91fd5947",
   "metadata": {},
   "outputs": [],
   "source": [
    "user_data = pd.read_csv(pathway) #upload dataframe #1"
   ]
  },
  {
   "cell_type": "code",
   "execution_count": 45,
   "id": "15fa5d71",
   "metadata": {},
   "outputs": [],
   "source": [
    "logs = pd.read_csv(pathway) #upload dataframe #2"
   ]
  },
  {
   "cell_type": "code",
   "execution_count": 4,
   "id": "4be52f78",
   "metadata": {},
   "outputs": [],
   "source": [
    "success_number = logs.query('success == True') \\ # select successful transactions\n",
    "                    .groupby('client', as_index=False) \\ #group clients\n",
    "                    .agg({'platform': 'count'}) \\ #number of successful transaction for every client\n",
    "                    .rename(columns={'platform': 'success_number'}) \\\n",
    "                    .sort_values('success_number', ascending=False)"
   ]
  },
  {
   "cell_type": "code",
   "execution_count": 5,
   "id": "0e79088c",
   "metadata": {},
   "outputs": [],
   "source": [
    "max_success = success_number.success_number.max()"
   ]
  },
  {
   "cell_type": "code",
   "execution_count": 6,
   "id": "9222f89f",
   "metadata": {},
   "outputs": [],
   "source": [
    "successful_clients = success_number.query('success_number == @max_success') \\\n",
    "                .sort_values('client') \\\n",
    "                .client \\\n",
    "                .tolist() #make a list of successful clients"
   ]
  },
  {
   "cell_type": "code",
   "execution_count": 8,
   "id": "e75f70d4",
   "metadata": {},
   "outputs": [
    {
     "data": {
      "text/plain": [
       "'12179, 28719, 36165, 52870, 61468, 61473, 78349, 82563, 92584'"
      ]
     },
     "execution_count": 8,
     "metadata": {},
     "output_type": "execute_result"
    }
   ],
   "source": [
    "', '.join([str(client) for client in successful_clients]) #convert the list into string"
   ]
  },
  {
   "cell_type": "code",
   "execution_count": 54,
   "id": "01c7362e",
   "metadata": {},
   "outputs": [],
   "source": [
    "success_platform = logs.query('success == True') \\\n",
    "                    .groupby('platform', as_index=False) \\\n",
    "                    .agg({'client': 'count'}) \\\n",
    "                    .rename(columns={'client': 'success_platform'})"
   ]
  },
  {
   "cell_type": "code",
   "execution_count": 55,
   "id": "dc138dcd",
   "metadata": {},
   "outputs": [
    {
     "data": {
      "text/plain": [
       "platform\n",
       "phone       246\n",
       "computer    150\n",
       "tablet       24\n",
       "dtype: int64"
      ]
     },
     "execution_count": 55,
     "metadata": {},
     "output_type": "execute_result"
    }
   ],
   "source": [
    "logs.merge(user_data, how='inner', on='client') \\\n",
    "    .query('premium == True') \\\n",
    "    .value_counts('platform')"
   ]
  }
 ],
 "metadata": {
  "kernelspec": {
   "display_name": "Python 3 (ipykernel)",
   "language": "python",
   "name": "python3"
  },
  "language_info": {
   "codemirror_mode": {
    "name": "ipython",
    "version": 3
   },
   "file_extension": ".py",
   "mimetype": "text/x-python",
   "name": "python",
   "nbconvert_exporter": "python",
   "pygments_lexer": "ipython3",
   "version": "3.10.9"
  }
 },
 "nbformat": 4,
 "nbformat_minor": 5
}
