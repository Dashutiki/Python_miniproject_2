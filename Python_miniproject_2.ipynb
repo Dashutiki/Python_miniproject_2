{
 "cells": [
  {
   "cell_type": "code",
   "execution_count": 1,
   "id": "12fbfe48",
   "metadata": {},
   "outputs": [],
   "source": [
    "import pandas as pd"
   ]
  },
  {
   "cell_type": "code",
   "execution_count": 10,
   "id": "91fd5947",
   "metadata": {},
   "outputs": [],
   "source": [
    "user_data = pd.read_csv(pathway) #upload database #1"
   ]
  },
  {
   "cell_type": "code",
   "execution_count": 18,
   "id": "15fa5d71",
   "metadata": {},
   "outputs": [],
   "source": [
    "logs = pd.read_csv(pathway) #upload database #2"
   ]
  },
  {
   "cell_type": "code",
   "execution_count": 59,
   "id": "4be52f78",
   "metadata": {},
   "outputs": [],
   "source": [
    "success_number = logs.query('success == True') \\\n",
    "                    .groupby('client', as_index=False) \\\n",
    "                    .agg({'platform': 'count'}) \\\n",
    "                    .rename(columns={'platform': 'success_number'}) \\\n",
    "                    .sort_values('success_number', ascending=False)"
   ]
  },
  {
   "cell_type": "code",
   "execution_count": 60,
   "id": "0e79088c",
   "metadata": {},
   "outputs": [],
   "source": [
    "max_success = success_number.success_number.max()"
   ]
  },
  {
   "cell_type": "code",
   "execution_count": 67,
   "id": "9222f89f",
   "metadata": {},
   "outputs": [],
   "source": [
    "successful_clients = success_number.query('success_number == @max_success') \\\n",
    "                .sort_values('client') \\\n",
    "                .client \\\n",
    "                .tolist()"
   ]
  },
  {
   "cell_type": "code",
   "execution_count": 69,
   "id": "9ef0b59d",
   "metadata": {},
   "outputs": [
    {
     "name": "stdout",
     "output_type": "stream",
     "text": [
      "12179, 28719, 36165, 52870, 61468, 61473, 78349, 82563, 92584, "
     ]
    }
   ],
   "source": [
    "for client in successful_clients:\n",
    "    print(client, end=', ')"
   ]
  },
  {
   "cell_type": "code",
   "execution_count": 70,
   "id": "e75f70d4",
   "metadata": {},
   "outputs": [
    {
     "data": {
      "text/plain": [
       "'12179, 28719, 36165, 52870, 61468, 61473, 78349, 82563, 92584'"
      ]
     },
     "execution_count": 70,
     "metadata": {},
     "output_type": "execute_result"
    }
   ],
   "source": [
    "', '.join([str(client) for client in successful_clients])"
   ]
  }
 ],
 "metadata": {
  "kernelspec": {
   "display_name": "Python 3 (ipykernel)",
   "language": "python",
   "name": "python3"
  },
  "language_info": {
   "codemirror_mode": {
    "name": "ipython",
    "version": 3
   },
   "file_extension": ".py",
   "mimetype": "text/x-python",
   "name": "python",
   "nbconvert_exporter": "python",
   "pygments_lexer": "ipython3",
   "version": "3.10.9"
  }
 },
 "nbformat": 4,
 "nbformat_minor": 5
}
